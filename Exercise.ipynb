{
  "nbformat": 4,
  "nbformat_minor": 0,
  "metadata": {
    "colab": {
      "name": "Exercise.ipynb",
      "provenance": [],
      "collapsed_sections": [],
      "authorship_tag": "ABX9TyOWuFbjU8GaCJQlUfJA4oos",
      "include_colab_link": true
    },
    "kernelspec": {
      "name": "python3",
      "display_name": "Python 3"
    },
    "language_info": {
      "name": "python"
    }
  },
  "cells": [
    {
      "cell_type": "markdown",
      "metadata": {
        "id": "view-in-github",
        "colab_type": "text"
      },
      "source": [
        "<a href=\"https://colab.research.google.com/github/buggaero/Exercise/blob/main/Exercise.ipynb\" target=\"_parent\"><img src=\"https://colab.research.google.com/assets/colab-badge.svg\" alt=\"Open In Colab\"/></a>"
      ]
    },
    {
      "cell_type": "markdown",
      "source": [
        "Before compiling code blocks, please add **TestInfo.csv** and **TestResults.pickle** to the **`/home`** directory, as they will be removed after every session."
      ],
      "metadata": {
        "id": "xs8bzBPgWkV0"
      }
    },
    {
      "cell_type": "code",
      "source": [
        "cd /home"
      ],
      "metadata": {
        "id": "shP4B248sOlO"
      },
      "execution_count": null,
      "outputs": []
    },
    {
      "cell_type": "code",
      "execution_count": null,
      "metadata": {
        "id": "y61Isy0zeh4J"
      },
      "outputs": [],
      "source": [
        "import pandas as pd\n",
        "\n",
        "df = pd.read_csv(r\"./TestInfo.csv\")\n",
        "obj = pd.read_pickle(r\"./TestResults.pickle\")"
      ]
    },
    {
      "cell_type": "code",
      "source": [
        "df"
      ],
      "metadata": {
        "id": "x6AYosx-qbe8"
      },
      "execution_count": null,
      "outputs": []
    },
    {
      "cell_type": "code",
      "source": [
        "obj"
      ],
      "metadata": {
        "id": "GX7iKxJNq38L"
      },
      "execution_count": null,
      "outputs": []
    },
    {
      "cell_type": "code",
      "source": [
        "#Merge TestInfo.csv and TestResults.pickle obj files\n",
        "all_data = pd.merge(df, obj, on=\"TestId\")\n",
        "\n",
        "#View Final Data Table\n",
        "all_data\n",
        "\n",
        "#Print Data table\n",
        "#all_data.to_csv('data.csv')"
      ],
      "metadata": {
        "id": "ik4Ci4vBL4Fz"
      },
      "execution_count": null,
      "outputs": []
    },
    {
      "cell_type": "markdown",
      "source": [
        "To convert categorical string data in to integer catgeories"
      ],
      "metadata": {
        "id": "YHD1O4R7YObi"
      }
    },
    {
      "cell_type": "code",
      "source": [
        "#Convert Device_NUM to NUM\n",
        "all_data['Device']=all_data['Device'].str.replace('Device_0','0')\n",
        "all_data['Device']=all_data['Device'].str.replace('Device_1','1')\n",
        "\n",
        "all_data['Device']=all_data['Device'].astype(int)\n",
        "\n",
        "#Convert Y & N to binary 1 & 0\n",
        "all_data['Optimised']=all_data['Optimised'].str.replace('N','0')\n",
        "all_data['Optimised']=all_data['Optimised'].str.replace('Y','1')\n",
        "\n",
        "all_data['Optimised']=all_data['Optimised'].astype(int)\n",
        "\n",
        "#Convert MLNet to Type 1 & 2\n",
        "all_data['MLNetwork']=all_data['MLNetwork'].str.replace('AlexNet','1')\n",
        "all_data['MLNetwork']=all_data['MLNetwork'].str.replace('MobileNet','2')\n",
        "\n",
        "all_data['MLNetwork']=all_data['MLNetwork'].astype(int)"
      ],
      "metadata": {
        "id": "Pe_KsJ4K4R9O"
      },
      "execution_count": null,
      "outputs": []
    },
    {
      "cell_type": "markdown",
      "source": [
        "$Total\\ CPU\\ cycles\\ (Hz)$ = $CPU\\ Cycles\\ (MHz)$ * ${10^6}$ * $Number\\ of\\ Threads$"
      ],
      "metadata": {
        "id": "odz7bUEpYWxk"
      }
    },
    {
      "cell_type": "code",
      "source": [
        "all_data['cycles_per_sec'] = (all_data['CPUFrequency (MHz)'] * all_data['Threads'] * 1000000)\n",
        "\n",
        "#all_data"
      ],
      "metadata": {
        "id": "ZUmoLMs6J4CT"
      },
      "execution_count": null,
      "outputs": []
    },
    {
      "cell_type": "markdown",
      "source": [
        "$Number\\ of\\ Operations$ (one op per cycle) = $Total\\ CPU\\ cycles (Hz)$ × $Time\\ (ms)$ × $10^{-3}$ "
      ],
      "metadata": {
        "id": "SS_vj9xfZa9Y"
      }
    },
    {
      "cell_type": "code",
      "source": [
        "all_data['num_ops'] = ((all_data['cycles_per_sec'] * all_data['Time (ms)' ])/1000).round()\n",
        "\n",
        "#all_data"
      ],
      "metadata": {
        "id": "qNO19wmaKkSO"
      },
      "execution_count": null,
      "outputs": []
    },
    {
      "cell_type": "markdown",
      "source": [
        "To view non-normalised data range on the label axes, use\n",
        "\n",
        "*   `px.parallel_coordinates()`\n",
        "\n",
        "To view Categorical values on label axes with accumulated test runs, replace with\n",
        "\n",
        "*   `px.parallel_categories()`\n"
      ],
      "metadata": {
        "id": "A_U3_L2fXAu6"
      }
    },
    {
      "cell_type": "code",
      "source": [
        "import plotly.express as px\n",
        "\n",
        "# Generate different parallel co-ordinates chart with column(axes) selection:\n",
        "\n",
        "#All Tests\n",
        "fig_testid = px.parallel_categories(\n",
        "    all_data, \n",
        "    color=\"TestId\", \n",
        "    labels={\"TestId\": \"TestId\", \"Device\": \"Device\", \"MLNetwork\": \"MLNetwork\", \"Build\": \"Build\", \"Optimised\": \"Optimised\",  \"Threads\": \"Threads\", \"CPUFrequency (MHz)\": \"CPU Fq.(MHz)\", \"Time(ms)\": \"Time\", \"PeakMemory (MB)\": \"PeakMemory (MB)\"},\n",
        "    dimensions=['TestId', 'CPUFrequency (MHz)', 'Time (ms)', 'PeakMemory (MB)', 'cycles_per_sec', 'num_ops'],\n",
        "    color_continuous_scale=px.colors.diverging.Tealrose,\n",
        "    color_continuous_midpoint=23)\n",
        "\n",
        "#Device Performance\n",
        "fig_dev = px.parallel_categories(\n",
        "    all_data, \n",
        "    color=\"Device\", \n",
        "    labels={\"TestId\": \"TestId\", \"Device\": \"Device\", \"MLNetwork\": \"MLNetwork\", \"Build\": \"Build\", \"Optimised\": \"Optimised\",  \"Threads\": \"Threads\", \"CPUFrequency (MHz)\": \"CPU Fq.(MHz)\", \"Time(ms)\": \"Time\", \"PeakMemory (MB)\": \"PeakMemory (MB)\"},\n",
        "    dimensions=['Device', 'CPUFrequency (MHz)', 'Time (ms)', 'PeakMemory (MB)', 'cycles_per_sec', 'num_ops'],\n",
        "    color_continuous_scale=px.colors.diverging.Tealrose,\n",
        "    color_continuous_midpoint=0.5)\n",
        "\n",
        "#Thread Performance\n",
        "fig_thrd = px.parallel_categories(\n",
        "    all_data, \n",
        "    color=\"Threads\", \n",
        "    labels={\"TestId\": \"TestId\", \"Device\": \"Device\", \"MLNetwork\": \"MLNetwork\", \"Build\": \"Build\", \"Optimised\": \"Optimised\",  \"Threads\": \"Threads\", \"CPUFrequency (MHz)\": \"CPU Fq.(MHz)\", \"Time(ms)\": \"Time\", \"PeakMemory (MB)\": \"PeakMemory (MB)\"},\n",
        "    dimensions=['Threads', 'CPUFrequency (MHz)', 'Time (ms)', 'PeakMemory (MB)', 'cycles_per_sec', 'num_ops'],\n",
        "    color_continuous_scale=px.colors.diverging.Tealrose,\n",
        "    color_continuous_midpoint=3)\n",
        "\n",
        "#MLNetwork Performance\n",
        "fig_mlnet = px.parallel_categories(\n",
        "    all_data, \n",
        "    color=\"MLNetwork\", \n",
        "    labels={\"TestId\": \"TestId\", \"Device\": \"Device\", \"MLNetwork\": \"MLNetwork\", \"Build\": \"Build\", \"Optimised\": \"Optimised\",  \"Threads\": \"Threads\", \"CPUFrequency (MHz)\": \"CPU Fq.(MHz)\", \"Time(ms)\": \"Time\", \"PeakMemory (MB)\": \"PeakMemory (MB)\"},\n",
        "    dimensions=['MLNetwork', 'CPUFrequency (MHz)', 'Time (ms)', 'PeakMemory (MB)', 'cycles_per_sec', 'num_ops'],\n",
        "    color_continuous_scale=px.colors.diverging.Tealrose,\n",
        "    color_continuous_midpoint=0.5)\n",
        "\n",
        "#Build Performance\n",
        "fig_build = px.parallel_categories(\n",
        "    all_data, \n",
        "    color=\"Build\", \n",
        "    labels={\"TestId\": \"TestId\", \"Device\": \"Device\", \"MLNetwork\": \"MLNetwork\", \"Build\": \"Build\", \"Optimised\": \"Optimised\",  \"Threads\": \"Threads\", \"CPUFrequency (MHz)\": \"CPU Fq.(MHz)\", \"Time(ms)\": \"Time\", \"PeakMemory (MB)\": \"PeakMemory (MB)\"},\n",
        "    dimensions=['Build', 'CPUFrequency (MHz)', 'Time (ms)', 'PeakMemory (MB)', 'cycles_per_sec', 'num_ops'],\n",
        "    color_continuous_scale=px.colors.diverging.Tealrose,\n",
        "    color_continuous_midpoint=5)\n",
        "\n",
        "#Optimisation Performance\n",
        "fig_opt = px.parallel_categories(\n",
        "    all_data, \n",
        "    color=\"Optimised\", \n",
        "    labels={\"TestId\": \"TestId\", \"Device\": \"Device\", \"MLNetwork\": \"MLNetwork\", \"Build\": \"Build\", \"Optimised\": \"Optimised\",  \"Threads\": \"Threads\", \"CPUFrequency (MHz)\": \"CPU Fq.(MHz)\", \"Time(ms)\": \"Time\", \"PeakMemory (MB)\": \"PeakMemory (MB)\"},\n",
        "    dimensions=['Optimised', 'CPUFrequency (MHz)', 'Time (ms)', 'PeakMemory (MB)', 'cycles_per_sec', 'num_ops'],\n",
        "    color_continuous_scale=px.colors.diverging.Tealrose,\n",
        "    color_continuous_midpoint=0.5)\n",
        "\n",
        "#CPUFrequency Performance\n",
        "fig_cpufq = px.parallel_categories(\n",
        "    all_data, \n",
        "    color=\"CPUFrequency (MHz)\", \n",
        "    labels={\"TestId\": \"TestId\", \"Device\": \"Device\", \"MLNetwork\": \"MLNetwork\", \"Build\": \"Build\", \"Optimised\": \"Optimised\",  \"Threads\": \"Threads\", \"CPUFrequency (MHz)\": \"CPU Fq.(MHz)\", \"Time(ms)\": \"Time\", \"PeakMemory (MB)\": \"PeakMemory (MB)\"},\n",
        "    dimensions=['CPUFrequency (MHz)', 'Time (ms)', 'PeakMemory (MB)', 'cycles_per_sec', 'num_ops'],\n",
        "    color_continuous_scale=px.colors.diverging.Tealrose,\n",
        "    color_continuous_midpoint=1500)\n",
        "\n",
        "# to hide the color scale if not needed\n",
        "fig_testid.update_layout(coloraxis_showscale=False)\n",
        "fig_dev.update_layout(coloraxis_showscale=False)\n",
        "fig_thrd.update_layout(coloraxis_showscale=False)\n",
        "fig_mlnet.update_layout(coloraxis_showscale=False)\n",
        "fig_build.update_layout(coloraxis_showscale=False)\n",
        "fig_opt.update_layout(coloraxis_showscale=False)\n",
        "fig_cpufq.update_layout(coloraxis_showscale=False)\n",
        "\n",
        "#Display Chosen Plot\n",
        "fig_cpufq.show(sort_labels=True)\n"
      ],
      "metadata": {
        "id": "f9Caei7CMy2Z",
        "colab": {
          "base_uri": "https://localhost:8080/",
          "height": 542
        },
        "outputId": "eb5ec96b-d2db-441f-a1cf-259832084f01"
      },
      "execution_count": null,
      "outputs": [
        {
          "output_type": "display_data",
          "data": {
            "text/html": [
              "<html>\n",
              "<head><meta charset=\"utf-8\" /></head>\n",
              "<body>\n",
              "    <div>            <script src=\"https://cdnjs.cloudflare.com/ajax/libs/mathjax/2.7.5/MathJax.js?config=TeX-AMS-MML_SVG\"></script><script type=\"text/javascript\">if (window.MathJax) {MathJax.Hub.Config({SVG: {font: \"STIX-Web\"}});}</script>                <script type=\"text/javascript\">window.PlotlyConfig = {MathJaxConfig: 'local'};</script>\n",
              "        <script src=\"https://cdn.plot.ly/plotly-2.8.3.min.js\"></script>                <div id=\"5c62cc84-7fe7-4269-bf03-d2f3d2af6a38\" class=\"plotly-graph-div\" style=\"height:525px; width:100%;\"></div>            <script type=\"text/javascript\">                                    window.PLOTLYENV=window.PLOTLYENV || {};                                    if (document.getElementById(\"5c62cc84-7fe7-4269-bf03-d2f3d2af6a38\")) {                    Plotly.newPlot(                        \"5c62cc84-7fe7-4269-bf03-d2f3d2af6a38\",                        [{\"dimensions\":[{\"label\":\"CPU Fq.(MHz)\",\"values\":[1000,1000,1000,1000,1000,2000,1000,2000,1000,1000,1000,2000,2000,1000,2000,1000,1000,2000,2000,1000,1000,1000,2000,1000,1000,1000,1000,1000,2000,1000,2000,1000,1000,2000,1000,1000,1000,1000,1000,2000,2000,1000,1000,1000,2000,1000,1000]},{\"label\":\"Time (ms)\",\"values\":[102.0,104.0,333.3333333333,100.0,125.0,53.0,25.0,83.3333333333,25.0,500.0,20.0,125.0,50.0,63.0,250.0,65.0,800.0,52.0,54.0,102.0,64.0,65.0,50.0,33.3333333333,166.6666666667,101.0,23.0,19.0,53.0,101.0,53.0,50.0,250.0,53.0,66.0,104.0,21.0,500.0,200.0,51.0,50.0,102.0,250.0,99.0,300.0,97.0,100.0]},{\"label\":\"PeakMemory (MB)\",\"values\":[449,453,302,449,450,458,85,308,450,300,86,307,458,448,301,450,298,457,458,453,451,450,457,53,311,452,451,449,456,450,457,50,310,456,450,453,449,305,454,456,458,449,449,450,460,455,51]},{\"label\":\"cycles_per_sec\",\"values\":[5000000000,5000000000,3000000000,5000000000,4000000000,10000000000,4000000000,6000000000,5000000000,1000000000,5000000000,4000000000,10000000000,5000000000,2000000000,5000000000,1000000000,10000000000,10000000000,5000000000,5000000000,5000000000,10000000000,3000000000,3000000000,5000000000,5000000000,5000000000,10000000000,5000000000,10000000000,2000000000,2000000000,10000000000,5000000000,5000000000,5000000000,2000000000,5000000000,10000000000,10000000000,5000000000,4000000000,5000000000,8000000000,5000000000,1000000000]},{\"label\":\"num_ops\",\"values\":[510000000.0,520000000.0,1000000000.0,500000000.0,500000000.0,530000000.0,100000000.0,500000000.0,125000000.0,500000000.0,100000000.0,500000000.0,500000000.0,315000000.0,500000000.0,325000000.0,800000000.0,520000000.0,540000000.0,510000000.0,320000000.0,325000000.0,500000000.0,100000000.0,500000000.0,505000000.0,115000000.0,95000000.0,530000000.0,505000000.0,530000000.0,100000000.0,500000000.0,530000000.0,330000000.0,520000000.0,105000000.0,1000000000.0,1000000000.0,510000000.0,500000000.0,510000000.0,1000000000.0,495000000.0,2400000000.0,485000000.0,100000000.0]}],\"domain\":{\"x\":[0.0,1.0],\"y\":[0.0,1.0]},\"line\":{\"color\":[1000,1000,1000,1000,1000,2000,1000,2000,1000,1000,1000,2000,2000,1000,2000,1000,1000,2000,2000,1000,1000,1000,2000,1000,1000,1000,1000,1000,2000,1000,2000,1000,1000,2000,1000,1000,1000,1000,1000,2000,2000,1000,1000,1000,2000,1000,1000],\"coloraxis\":\"coloraxis\"},\"name\":\"\",\"type\":\"parcats\"}],                        {\"template\":{\"data\":{\"bar\":[{\"error_x\":{\"color\":\"#2a3f5f\"},\"error_y\":{\"color\":\"#2a3f5f\"},\"marker\":{\"line\":{\"color\":\"#E5ECF6\",\"width\":0.5},\"pattern\":{\"fillmode\":\"overlay\",\"size\":10,\"solidity\":0.2}},\"type\":\"bar\"}],\"barpolar\":[{\"marker\":{\"line\":{\"color\":\"#E5ECF6\",\"width\":0.5},\"pattern\":{\"fillmode\":\"overlay\",\"size\":10,\"solidity\":0.2}},\"type\":\"barpolar\"}],\"carpet\":[{\"aaxis\":{\"endlinecolor\":\"#2a3f5f\",\"gridcolor\":\"white\",\"linecolor\":\"white\",\"minorgridcolor\":\"white\",\"startlinecolor\":\"#2a3f5f\"},\"baxis\":{\"endlinecolor\":\"#2a3f5f\",\"gridcolor\":\"white\",\"linecolor\":\"white\",\"minorgridcolor\":\"white\",\"startlinecolor\":\"#2a3f5f\"},\"type\":\"carpet\"}],\"choropleth\":[{\"colorbar\":{\"outlinewidth\":0,\"ticks\":\"\"},\"type\":\"choropleth\"}],\"contour\":[{\"colorbar\":{\"outlinewidth\":0,\"ticks\":\"\"},\"colorscale\":[[0.0,\"#0d0887\"],[0.1111111111111111,\"#46039f\"],[0.2222222222222222,\"#7201a8\"],[0.3333333333333333,\"#9c179e\"],[0.4444444444444444,\"#bd3786\"],[0.5555555555555556,\"#d8576b\"],[0.6666666666666666,\"#ed7953\"],[0.7777777777777778,\"#fb9f3a\"],[0.8888888888888888,\"#fdca26\"],[1.0,\"#f0f921\"]],\"type\":\"contour\"}],\"contourcarpet\":[{\"colorbar\":{\"outlinewidth\":0,\"ticks\":\"\"},\"type\":\"contourcarpet\"}],\"heatmap\":[{\"colorbar\":{\"outlinewidth\":0,\"ticks\":\"\"},\"colorscale\":[[0.0,\"#0d0887\"],[0.1111111111111111,\"#46039f\"],[0.2222222222222222,\"#7201a8\"],[0.3333333333333333,\"#9c179e\"],[0.4444444444444444,\"#bd3786\"],[0.5555555555555556,\"#d8576b\"],[0.6666666666666666,\"#ed7953\"],[0.7777777777777778,\"#fb9f3a\"],[0.8888888888888888,\"#fdca26\"],[1.0,\"#f0f921\"]],\"type\":\"heatmap\"}],\"heatmapgl\":[{\"colorbar\":{\"outlinewidth\":0,\"ticks\":\"\"},\"colorscale\":[[0.0,\"#0d0887\"],[0.1111111111111111,\"#46039f\"],[0.2222222222222222,\"#7201a8\"],[0.3333333333333333,\"#9c179e\"],[0.4444444444444444,\"#bd3786\"],[0.5555555555555556,\"#d8576b\"],[0.6666666666666666,\"#ed7953\"],[0.7777777777777778,\"#fb9f3a\"],[0.8888888888888888,\"#fdca26\"],[1.0,\"#f0f921\"]],\"type\":\"heatmapgl\"}],\"histogram\":[{\"marker\":{\"pattern\":{\"fillmode\":\"overlay\",\"size\":10,\"solidity\":0.2}},\"type\":\"histogram\"}],\"histogram2d\":[{\"colorbar\":{\"outlinewidth\":0,\"ticks\":\"\"},\"colorscale\":[[0.0,\"#0d0887\"],[0.1111111111111111,\"#46039f\"],[0.2222222222222222,\"#7201a8\"],[0.3333333333333333,\"#9c179e\"],[0.4444444444444444,\"#bd3786\"],[0.5555555555555556,\"#d8576b\"],[0.6666666666666666,\"#ed7953\"],[0.7777777777777778,\"#fb9f3a\"],[0.8888888888888888,\"#fdca26\"],[1.0,\"#f0f921\"]],\"type\":\"histogram2d\"}],\"histogram2dcontour\":[{\"colorbar\":{\"outlinewidth\":0,\"ticks\":\"\"},\"colorscale\":[[0.0,\"#0d0887\"],[0.1111111111111111,\"#46039f\"],[0.2222222222222222,\"#7201a8\"],[0.3333333333333333,\"#9c179e\"],[0.4444444444444444,\"#bd3786\"],[0.5555555555555556,\"#d8576b\"],[0.6666666666666666,\"#ed7953\"],[0.7777777777777778,\"#fb9f3a\"],[0.8888888888888888,\"#fdca26\"],[1.0,\"#f0f921\"]],\"type\":\"histogram2dcontour\"}],\"mesh3d\":[{\"colorbar\":{\"outlinewidth\":0,\"ticks\":\"\"},\"type\":\"mesh3d\"}],\"parcoords\":[{\"line\":{\"colorbar\":{\"outlinewidth\":0,\"ticks\":\"\"}},\"type\":\"parcoords\"}],\"pie\":[{\"automargin\":true,\"type\":\"pie\"}],\"scatter\":[{\"marker\":{\"colorbar\":{\"outlinewidth\":0,\"ticks\":\"\"}},\"type\":\"scatter\"}],\"scatter3d\":[{\"line\":{\"colorbar\":{\"outlinewidth\":0,\"ticks\":\"\"}},\"marker\":{\"colorbar\":{\"outlinewidth\":0,\"ticks\":\"\"}},\"type\":\"scatter3d\"}],\"scattercarpet\":[{\"marker\":{\"colorbar\":{\"outlinewidth\":0,\"ticks\":\"\"}},\"type\":\"scattercarpet\"}],\"scattergeo\":[{\"marker\":{\"colorbar\":{\"outlinewidth\":0,\"ticks\":\"\"}},\"type\":\"scattergeo\"}],\"scattergl\":[{\"marker\":{\"colorbar\":{\"outlinewidth\":0,\"ticks\":\"\"}},\"type\":\"scattergl\"}],\"scattermapbox\":[{\"marker\":{\"colorbar\":{\"outlinewidth\":0,\"ticks\":\"\"}},\"type\":\"scattermapbox\"}],\"scatterpolar\":[{\"marker\":{\"colorbar\":{\"outlinewidth\":0,\"ticks\":\"\"}},\"type\":\"scatterpolar\"}],\"scatterpolargl\":[{\"marker\":{\"colorbar\":{\"outlinewidth\":0,\"ticks\":\"\"}},\"type\":\"scatterpolargl\"}],\"scatterternary\":[{\"marker\":{\"colorbar\":{\"outlinewidth\":0,\"ticks\":\"\"}},\"type\":\"scatterternary\"}],\"surface\":[{\"colorbar\":{\"outlinewidth\":0,\"ticks\":\"\"},\"colorscale\":[[0.0,\"#0d0887\"],[0.1111111111111111,\"#46039f\"],[0.2222222222222222,\"#7201a8\"],[0.3333333333333333,\"#9c179e\"],[0.4444444444444444,\"#bd3786\"],[0.5555555555555556,\"#d8576b\"],[0.6666666666666666,\"#ed7953\"],[0.7777777777777778,\"#fb9f3a\"],[0.8888888888888888,\"#fdca26\"],[1.0,\"#f0f921\"]],\"type\":\"surface\"}],\"table\":[{\"cells\":{\"fill\":{\"color\":\"#EBF0F8\"},\"line\":{\"color\":\"white\"}},\"header\":{\"fill\":{\"color\":\"#C8D4E3\"},\"line\":{\"color\":\"white\"}},\"type\":\"table\"}]},\"layout\":{\"annotationdefaults\":{\"arrowcolor\":\"#2a3f5f\",\"arrowhead\":0,\"arrowwidth\":1},\"autotypenumbers\":\"strict\",\"coloraxis\":{\"colorbar\":{\"outlinewidth\":0,\"ticks\":\"\"}},\"colorscale\":{\"diverging\":[[0,\"#8e0152\"],[0.1,\"#c51b7d\"],[0.2,\"#de77ae\"],[0.3,\"#f1b6da\"],[0.4,\"#fde0ef\"],[0.5,\"#f7f7f7\"],[0.6,\"#e6f5d0\"],[0.7,\"#b8e186\"],[0.8,\"#7fbc41\"],[0.9,\"#4d9221\"],[1,\"#276419\"]],\"sequential\":[[0.0,\"#0d0887\"],[0.1111111111111111,\"#46039f\"],[0.2222222222222222,\"#7201a8\"],[0.3333333333333333,\"#9c179e\"],[0.4444444444444444,\"#bd3786\"],[0.5555555555555556,\"#d8576b\"],[0.6666666666666666,\"#ed7953\"],[0.7777777777777778,\"#fb9f3a\"],[0.8888888888888888,\"#fdca26\"],[1.0,\"#f0f921\"]],\"sequentialminus\":[[0.0,\"#0d0887\"],[0.1111111111111111,\"#46039f\"],[0.2222222222222222,\"#7201a8\"],[0.3333333333333333,\"#9c179e\"],[0.4444444444444444,\"#bd3786\"],[0.5555555555555556,\"#d8576b\"],[0.6666666666666666,\"#ed7953\"],[0.7777777777777778,\"#fb9f3a\"],[0.8888888888888888,\"#fdca26\"],[1.0,\"#f0f921\"]]},\"colorway\":[\"#636efa\",\"#EF553B\",\"#00cc96\",\"#ab63fa\",\"#FFA15A\",\"#19d3f3\",\"#FF6692\",\"#B6E880\",\"#FF97FF\",\"#FECB52\"],\"font\":{\"color\":\"#2a3f5f\"},\"geo\":{\"bgcolor\":\"white\",\"lakecolor\":\"white\",\"landcolor\":\"#E5ECF6\",\"showlakes\":true,\"showland\":true,\"subunitcolor\":\"white\"},\"hoverlabel\":{\"align\":\"left\"},\"hovermode\":\"closest\",\"mapbox\":{\"style\":\"light\"},\"paper_bgcolor\":\"white\",\"plot_bgcolor\":\"#E5ECF6\",\"polar\":{\"angularaxis\":{\"gridcolor\":\"white\",\"linecolor\":\"white\",\"ticks\":\"\"},\"bgcolor\":\"#E5ECF6\",\"radialaxis\":{\"gridcolor\":\"white\",\"linecolor\":\"white\",\"ticks\":\"\"}},\"scene\":{\"xaxis\":{\"backgroundcolor\":\"#E5ECF6\",\"gridcolor\":\"white\",\"gridwidth\":2,\"linecolor\":\"white\",\"showbackground\":true,\"ticks\":\"\",\"zerolinecolor\":\"white\"},\"yaxis\":{\"backgroundcolor\":\"#E5ECF6\",\"gridcolor\":\"white\",\"gridwidth\":2,\"linecolor\":\"white\",\"showbackground\":true,\"ticks\":\"\",\"zerolinecolor\":\"white\"},\"zaxis\":{\"backgroundcolor\":\"#E5ECF6\",\"gridcolor\":\"white\",\"gridwidth\":2,\"linecolor\":\"white\",\"showbackground\":true,\"ticks\":\"\",\"zerolinecolor\":\"white\"}},\"shapedefaults\":{\"line\":{\"color\":\"#2a3f5f\"}},\"ternary\":{\"aaxis\":{\"gridcolor\":\"white\",\"linecolor\":\"white\",\"ticks\":\"\"},\"baxis\":{\"gridcolor\":\"white\",\"linecolor\":\"white\",\"ticks\":\"\"},\"bgcolor\":\"#E5ECF6\",\"caxis\":{\"gridcolor\":\"white\",\"linecolor\":\"white\",\"ticks\":\"\"}},\"title\":{\"x\":0.05},\"xaxis\":{\"automargin\":true,\"gridcolor\":\"white\",\"linecolor\":\"white\",\"ticks\":\"\",\"title\":{\"standoff\":15},\"zerolinecolor\":\"white\",\"zerolinewidth\":2},\"yaxis\":{\"automargin\":true,\"gridcolor\":\"white\",\"linecolor\":\"white\",\"ticks\":\"\",\"title\":{\"standoff\":15},\"zerolinecolor\":\"white\",\"zerolinewidth\":2}}},\"coloraxis\":{\"colorbar\":{\"title\":{\"text\":\"CPU Fq.(MHz)\"}},\"colorscale\":[[0.0,\"rgb(0, 147, 146)\"],[0.16666666666666666,\"rgb(114, 170, 161)\"],[0.3333333333333333,\"rgb(177, 199, 179)\"],[0.5,\"rgb(241, 234, 200)\"],[0.6666666666666666,\"rgb(229, 185, 173)\"],[0.8333333333333334,\"rgb(217, 137, 148)\"],[1.0,\"rgb(208, 88, 126)\"]],\"cmid\":1500,\"showscale\":false},\"legend\":{\"tracegroupgap\":0},\"margin\":{\"t\":60}},                        {\"responsive\": true}                    ).then(function(){\n",
              "                            \n",
              "var gd = document.getElementById('5c62cc84-7fe7-4269-bf03-d2f3d2af6a38');\n",
              "var x = new MutationObserver(function (mutations, observer) {{\n",
              "        var display = window.getComputedStyle(gd).display;\n",
              "        if (!display || display === 'none') {{\n",
              "            console.log([gd, 'removed!']);\n",
              "            Plotly.purge(gd);\n",
              "            observer.disconnect();\n",
              "        }}\n",
              "}});\n",
              "\n",
              "// Listen for the removal of the full notebook cells\n",
              "var notebookContainer = gd.closest('#notebook-container');\n",
              "if (notebookContainer) {{\n",
              "    x.observe(notebookContainer, {childList: true});\n",
              "}}\n",
              "\n",
              "// Listen for the clearing of the current output cell\n",
              "var outputEl = gd.closest('.output');\n",
              "if (outputEl) {{\n",
              "    x.observe(outputEl, {childList: true});\n",
              "}}\n",
              "\n",
              "                        })                };                            </script>        </div>\n",
              "</body>\n",
              "</html>"
            ]
          },
          "metadata": {}
        }
      ]
    },
    {
      "cell_type": "markdown",
      "source": [
        "PPT Contains results from older build with `ms_per_cycle` data column. "
      ],
      "metadata": {
        "id": "ETEWcqcMcN15"
      }
    }
  ]
}